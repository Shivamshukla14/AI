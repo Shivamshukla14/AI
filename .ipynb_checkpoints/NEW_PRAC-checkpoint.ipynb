{
 "cells": [
  {
   "cell_type": "code",
   "execution_count": 1,
   "id": "7ec968b4",
   "metadata": {},
   "outputs": [],
   "source": [
    "from deap import tools\n",
    "import random"
   ]
  },
  {
   "cell_type": "code",
   "execution_count": 2,
   "id": "fecf0170",
   "metadata": {},
   "outputs": [],
   "source": [
    "population = [\"10101010\",\"11110000\",\"01010101\",\"00001111\",\"10111011\",\"01000100\",\"11100111\",\"00000000\"]"
   ]
  },
  {
   "cell_type": "code",
   "execution_count": 3,
   "id": "785b01c9",
   "metadata": {},
   "outputs": [],
   "source": [
    "binary = []"
   ]
  },
  {
   "cell_type": "code",
   "execution_count": 4,
   "id": "0301b28a",
   "metadata": {},
   "outputs": [],
   "source": [
    "for i in range(len(population)):\n",
    "    binary.append(int(population[i],2))"
   ]
  },
  {
   "cell_type": "code",
   "execution_count": 5,
   "id": "65a1a3d2",
   "metadata": {},
   "outputs": [
    {
     "data": {
      "text/plain": [
       "[170, 240, 85, 15, 187, 68, 231, 0]"
      ]
     },
     "execution_count": 5,
     "metadata": {},
     "output_type": "execute_result"
    }
   ],
   "source": [
    "binary"
   ]
  },
  {
   "cell_type": "code",
   "execution_count": 6,
   "id": "c1e5f6ae",
   "metadata": {},
   "outputs": [
    {
     "name": "stdout",
     "output_type": "stream",
     "text": [
      "Individual [ 0 ]:  10101010 \tFitness:  170\n",
      "Individual [ 1 ]:  11110000 \tFitness:  240\n",
      "Individual [ 2 ]:  01010101 \tFitness:  85\n",
      "Individual [ 3 ]:  00001111 \tFitness:  15\n",
      "Individual [ 4 ]:  10111011 \tFitness:  187\n",
      "Individual [ 5 ]:  01000100 \tFitness:  68\n",
      "Individual [ 6 ]:  11100111 \tFitness:  231\n",
      "Individual [ 7 ]:  00000000 \tFitness:  0\n"
     ]
    }
   ],
   "source": [
    "for i in range(len(population)):\n",
    "    print(\"Individual [\",i,\"]: \",population[i],\"\\tFitness: \",binary[i])"
   ]
  },
  {
   "cell_type": "code",
   "execution_count": 7,
   "id": "033c380b",
   "metadata": {},
   "outputs": [],
   "source": [
    "def crossoverEP():\n",
    "    parents = tools.selection.selRandom(population,2)\n",
    "    \n",
    "    print(\"Selected Individuals\\nParent 1:\",parents[0],\"\\tFitness:\",binary[population.index(parents[0])],\"\\nParent 2: \",\n",
    "         parents[1],\"\\tFitness: \",binary[population.index(parents[1])],\"\\n\")\n",
    "    children = list(tools.crossover.cxOnePoint(list(parents[0]),list(parents[1])))\n",
    "    \n",
    "    f_child1 = int(\"\".join(children[0]),2)\n",
    "    f_child2 = int(\"\".join(children[1]),2)\n",
    "    \n",
    "    print(\"Child 1: \",\"\".join(children[0]),\"\\tFitness\",f_child1)\n",
    "    print(\"Child 2: \",\"\".join(children[1]),\"\\tFitness\",f_child2)\n",
    "    \n",
    "    if(f_child1 < f_child2):\n",
    "        print(\"\\nChild \",\"\".join(children[1]),\"Survive to next generation\")\n",
    "    else:\n",
    "        print(\"\\nChild \",\"\".join(children[0]),\"Survive to next generation\")\n",
    "        "
   ]
  },
  {
   "cell_type": "code",
   "execution_count": 8,
   "id": "b4fdab20",
   "metadata": {},
   "outputs": [],
   "source": [
    "def mutationEP():\n",
    "    parent = tools.selection.selRandom(population,1)\n",
    "    print(\"Selected Individual: \",parent[0],\"\\tFitness: \",binary[population.index(parent[0])])\n",
    "    child_list = list(parent[0])\n",
    "    mutate_bit = random.choice(range(1,7))\n",
    "    if child_list[mutate_bit] == '1':\n",
    "        child_list[mutate_bit] ='0'\n",
    "    else:\n",
    "        child_list[mutate_bit] = '1'\n",
    "    child = int(\"\".join(child_list),2)\n",
    "    print(\"\\nMutated Child: \",\"\".join(child_list),\"\\tFitness: \",child,\"\\n\")\n",
    "    if (child<=binary[population.index(parent[0])]):\n",
    "        print(\"Child has not evolved\")\n",
    "    if (child>binary[population.index(parent[0])]):\n",
    "        print(\"Child has evolved\")\n"
   ]
  },
  {
   "cell_type": "code",
   "execution_count": 9,
   "id": "e40ab027",
   "metadata": {},
   "outputs": [
    {
     "name": "stdout",
     "output_type": "stream",
     "text": [
      "\n",
      "Please enter choice(or Quit type exit)\n",
      "Crossover or Mutation:crossover\n",
      "Selected Individuals\n",
      "Parent 1: 01010101 \tFitness: 85 \n",
      "Parent 2:  10101010 \tFitness:  170 \n",
      "\n",
      "Child 1:  01001010 \tFitness 74\n",
      "Child 2:  10110101 \tFitness 181\n",
      "\n",
      "Child  10110101 Survive to next generation\n",
      "\n",
      "Please enter choice(or Quit type exit)\n",
      "Crossover or Mutation:mutation\n",
      "Selected Individual:  11100111 \tFitness:  231\n",
      "\n",
      "Mutated Child:  10100111 \tFitness:  167 \n",
      "\n",
      "Child has not evolved\n",
      "\n",
      "Please enter choice(or Quit type exit)\n",
      "Crossover or Mutation:exit\n"
     ]
    }
   ],
   "source": [
    "while True:\n",
    "    evolution = input(\"\\nPlease enter choice(or Quit type exit)\\nCrossover or Mutation:\").lower()\n",
    "    if evolution == \"crossover\":\n",
    "        crossoverEP()\n",
    "    elif evolution == \"mutation\":\n",
    "        mutationEP()\n",
    "    elif evolution == \"exit\":\n",
    "        break\n",
    "    else:\n",
    "        print(\"Please enter a valid choice\")\n",
    "        "
   ]
  },
  {
   "cell_type": "code",
   "execution_count": null,
   "id": "adb5090a",
   "metadata": {},
   "outputs": [],
   "source": []
  }
 ],
 "metadata": {
  "kernelspec": {
   "display_name": "Python 3 (ipykernel)",
   "language": "python",
   "name": "python3"
  },
  "language_info": {
   "codemirror_mode": {
    "name": "ipython",
    "version": 3
   },
   "file_extension": ".py",
   "mimetype": "text/x-python",
   "name": "python",
   "nbconvert_exporter": "python",
   "pygments_lexer": "ipython3",
   "version": "3.9.7"
  }
 },
 "nbformat": 4,
 "nbformat_minor": 5
}
